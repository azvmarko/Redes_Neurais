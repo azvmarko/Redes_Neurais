{
  "nbformat": 4,
  "nbformat_minor": 0,
  "metadata": {
    "colab": {
      "name": "Welcome To Colaboratory",
      "version": "0.3.2",
      "provenance": [],
      "collapsed_sections": [],
      "include_colab_link": true
    },
    "kernelspec": {
      "display_name": "Python 3",
      "name": "python3"
    }
  },
  "cells": [
    {
      "cell_type": "markdown",
      "metadata": {
        "id": "view-in-github",
        "colab_type": "text"
      },
      "source": [
        "<a href=\"https://colab.research.google.com/github/azvmarko/Redes_Neurais/blob/master/Welcome_To_Colaboratory.ipynb\" target=\"_parent\"><img src=\"https://colab.research.google.com/assets/colab-badge.svg\" alt=\"Open In Colab\"/></a>"
      ]
    },
    {
      "cell_type": "code",
      "metadata": {
        "id": "7pBbvOEoo2Ol",
        "colab_type": "code",
        "colab": {}
      },
      "source": [
        "import tensorflow as tf\n",
        "import datetime"
      ],
      "execution_count": 0,
      "outputs": []
    },
    {
      "cell_type": "code",
      "metadata": {
        "id": "gdyLQP2qo6js",
        "colab_type": "code",
        "outputId": "bdd6dd9d-05b9-41a4-986c-c0320e5fce39",
        "colab": {
          "base_uri": "https://localhost:8080/",
          "height": 34
        }
      },
      "source": [
        "print(\"Using TensorFlow version\", tf.__version__)"
      ],
      "execution_count": 0,
      "outputs": [
        {
          "output_type": "stream",
          "text": [
            "Using TensorFlow version 1.14.0\n"
          ],
          "name": "stdout"
        }
      ]
    },
    {
      "cell_type": "code",
      "metadata": {
        "id": "7NqT7k7EpG8k",
        "colab_type": "code",
        "colab": {}
      },
      "source": [
        "mnist = tf.keras.datasets.mnist # importando um dataser residente no keras"
      ],
      "execution_count": 0,
      "outputs": []
    },
    {
      "cell_type": "code",
      "metadata": {
        "id": "q0icvo5RpQEO",
        "colab_type": "code",
        "outputId": "3064e3f0-ac60-4b49-8c07-bf689c7700eb",
        "colab": {
          "base_uri": "https://localhost:8080/",
          "height": 51
        }
      },
      "source": [
        "(x_train, y_train),(x_test, y_test) = mnist.load_data() # quebrando em treino e teste"
      ],
      "execution_count": 0,
      "outputs": [
        {
          "output_type": "stream",
          "text": [
            "Downloading data from https://storage.googleapis.com/tensorflow/tf-keras-datasets/mnist.npz\n",
            "11493376/11490434 [==============================] - 0s 0us/step\n"
          ],
          "name": "stdout"
        }
      ]
    },
    {
      "cell_type": "code",
      "metadata": {
        "id": "TrKVHzL8pXIX",
        "colab_type": "code",
        "colab": {}
      },
      "source": [
        "x_train, x_test = x_train / 255.0, x_test / 255.0 #normalizando os valores de cada pixel"
      ],
      "execution_count": 0,
      "outputs": []
    },
    {
      "cell_type": "code",
      "metadata": {
        "id": "2IITnMl5peFH",
        "colab_type": "code",
        "outputId": "620ea9a0-a012-42af-8372-13bd0a7be4ad",
        "colab": {
          "base_uri": "https://localhost:8080/",
          "height": 105
        }
      },
      "source": [
        "# Aqui vamos montar nossa rede. Primeiramente, instanciamos um modelo\n",
        "# sequencial. Dentro do modelo, nós podemos colocar as camadas que quisermos\n",
        "\n",
        "model = tf.keras.models.Sequential([\n",
        "  tf.keras.layers.Flatten(input_shape=(28, 28)), # camada para transformar a imagem 28x28 em um vetor unidimensional\n",
        "  tf.keras.layers.Dense(512, activation=tf.nn.relu), # 512 neuronios fully connected com ativação por ReLU\n",
        "  tf.keras.layers.Dropout(0.2), # Dropout de 20% da última camada\n",
        "  tf.keras.layers.Dense(10, activation=tf.nn.softmax) # 10 neurônios softmax, para classificação. Um para cada categoria\n",
        "])"
      ],
      "execution_count": 0,
      "outputs": [
        {
          "output_type": "stream",
          "text": [
            "WARNING: Logging before flag parsing goes to stderr.\n",
            "W0712 14:46:56.495523 140086169655168 deprecation.py:506] From /usr/local/lib/python3.6/dist-packages/tensorflow/python/ops/init_ops.py:1251: calling VarianceScaling.__init__ (from tensorflow.python.ops.init_ops) with dtype is deprecated and will be removed in a future version.\n",
            "Instructions for updating:\n",
            "Call initializer instance with the dtype argument instead of passing it to the constructor\n"
          ],
          "name": "stderr"
        }
      ]
    },
    {
      "cell_type": "code",
      "metadata": {
        "id": "EGoB-s0KpsZS",
        "colab_type": "code",
        "colab": {}
      },
      "source": [
        "# Depois de construida a arquitetura,\n",
        "# precisamos definir otimizador e loss function\n",
        "model.compile(optimizer='adam', # Estamos utilizando o ADAM\n",
        "              loss='sparse_categorical_crossentropy', # nossa loss function é entropia cross-categórica\n",
        "              metrics=['accuracy']) # nossa métrica base será acc. Podemos utilizar mais de uma métrica"
      ],
      "execution_count": 0,
      "outputs": []
    },
    {
      "cell_type": "code",
      "metadata": {
        "id": "mHArTJGmp1QW",
        "colab_type": "code",
        "outputId": "ea818703-a248-4f31-d76a-731b9484a668",
        "colab": {
          "base_uri": "https://localhost:8080/",
          "height": 221
        }
      },
      "source": [
        "# Agora que tudo está instanciado, podemos realizar o fit do modelo.\n",
        "# No caso, vamos utilizar 5 epochs.\n",
        "model.fit(x_train, y_train, epochs=5)\n",
        "model.evaluate(x_test, y_test)"
      ],
      "execution_count": 0,
      "outputs": [
        {
          "output_type": "stream",
          "text": [
            "Epoch 1/5\n",
            "60000/60000 [==============================] - 9s 145us/sample - loss: 0.2179 - acc: 0.9352\n",
            "Epoch 2/5\n",
            "60000/60000 [==============================] - 8s 140us/sample - loss: 0.0967 - acc: 0.9706\n",
            "Epoch 3/5\n",
            "60000/60000 [==============================] - 8s 136us/sample - loss: 0.0688 - acc: 0.9782\n",
            "Epoch 4/5\n",
            "60000/60000 [==============================] - 8s 136us/sample - loss: 0.0521 - acc: 0.9837\n",
            "Epoch 5/5\n",
            "60000/60000 [==============================] - 8s 134us/sample - loss: 0.0428 - acc: 0.9858\n",
            "10000/10000 [==============================] - 1s 61us/sample - loss: 0.0619 - acc: 0.9815\n"
          ],
          "name": "stdout"
        },
        {
          "output_type": "execute_result",
          "data": {
            "text/plain": [
              "[0.06189714796259068, 0.9815]"
            ]
          },
          "metadata": {
            "tags": []
          },
          "execution_count": 8
        }
      ]
    },
    {
      "cell_type": "code",
      "metadata": {
        "id": "8aS-cRv8p63M",
        "colab_type": "code",
        "outputId": "2c996660-3b89-4c81-c29e-57fc24121f1e",
        "colab": {
          "base_uri": "https://localhost:8080/",
          "height": 221
        }
      },
      "source": [
        "# Aqui vamos montar nossa rede. Primeiramente, instanciamos um modelo\n",
        "# sequencial. Dentro do modelo, nós podemos colocar as camadas que quisermos\n",
        "model = tf.keras.models.Sequential([\n",
        "  tf.keras.layers.Flatten(input_shape=(28, 28)), # camada para transformar a imagem 28x28 em um vetor unidimensional\n",
        "  tf.keras.layers.Dense(512, activation=tf.nn.relu), # 512 neuronios fully connected com ativação por ReLU\n",
        "  tf.keras.layers.Dropout(0.2), # Dropout de 20% da última camada\n",
        "  tf.keras.layers.Dense(10, activation=tf.nn.softmax) # 10 neurônios softmax, para classificação. Um para cada categoria\n",
        "])\n",
        "\n",
        "# Depois de construida a arquitetura,\n",
        "# precisamos definir otimizador e loss function\n",
        "model.compile(optimizer='adam', # Estamos utilizando o ADAM\n",
        "              loss='sparse_categorical_crossentropy', # nossa loss function é entropia cross-categórica\n",
        "              metrics=['accuracy']) # nossa métrica base será acc. Podemos utilizar mais de uma métrica\n",
        "\n",
        "# Agora que tudo está instanciado, podemos realizar o fit do modelo.\n",
        "# No caso, vamos utilizar 5 epochs.\n",
        "model.fit(x_train, y_train, epochs=5)\n",
        "model.evaluate(x_test, y_test)"
      ],
      "execution_count": 0,
      "outputs": [
        {
          "output_type": "stream",
          "text": [
            "Epoch 1/5\n",
            "60000/60000 [==============================] - 8s 130us/sample - loss: 0.2228 - acc: 0.9344\n",
            "Epoch 2/5\n",
            "60000/60000 [==============================] - 8s 125us/sample - loss: 0.0985 - acc: 0.9703\n",
            "Epoch 3/5\n",
            "60000/60000 [==============================] - 8s 127us/sample - loss: 0.0699 - acc: 0.9782\n",
            "Epoch 4/5\n",
            "60000/60000 [==============================] - 8s 131us/sample - loss: 0.0524 - acc: 0.9831\n",
            "Epoch 5/5\n",
            "60000/60000 [==============================] - 8s 126us/sample - loss: 0.0452 - acc: 0.9852\n",
            "10000/10000 [==============================] - 1s 62us/sample - loss: 0.0604 - acc: 0.9814\n"
          ],
          "name": "stdout"
        },
        {
          "output_type": "execute_result",
          "data": {
            "text/plain": [
              "[0.06043036153508001, 0.9814]"
            ]
          },
          "metadata": {
            "tags": []
          },
          "execution_count": 18
        }
      ]
    },
    {
      "cell_type": "code",
      "metadata": {
        "id": "9PUHFdQ-t1Ln",
        "colab_type": "code",
        "colab": {}
      },
      "source": [
        ""
      ],
      "execution_count": 0,
      "outputs": []
    }
  ]
}